{
 "cells": [
  {
   "cell_type": "code",
   "execution_count": 1,
   "metadata": {},
   "outputs": [],
   "source": [
    "import numpy as np\n",
    "from matplotlib import pyplot as plt\n",
    "import pandas as pd"
   ]
  },
  {
   "cell_type": "code",
   "execution_count": 2,
   "metadata": {
    "tags": []
   },
   "outputs": [],
   "source": [
    "# Делаем матрицу весов\n",
    "def Sum_Matrix(one,two):\n",
    "    Rezult = [[0 for c in range(0, np.shape(one)[1])] for r in range(0, np.shape(one)[0])] \n",
    "    N = 1/np.shape(one)[0]\n",
    "    for i in range(0, np.shape(one)[0]):\n",
    "        for j in range(0, np.shape(one)[1]):\n",
    "            Rezult[i][j] = (one[i][j]+two[i][j]) # сложение ячеек \n",
    "            if(i==j):\n",
    "                Rezult[i][j] = 0\n",
    "    return Rezult"
   ]
  },
  {
   "cell_type": "code",
   "execution_count": 3,
   "metadata": {
    "tags": []
   },
   "outputs": [],
   "source": [
    "# Рисуем символ \n",
    "def DisplayMatrix(matrix):\n",
    "    fig, ax = plt.subplots()\n",
    "    cax = ax.matshow(matrix, vmin = -1, vmax = 1, cmap='binary')\n",
    "    fig.colorbar(cax)\n",
    "    plt.show()"
   ]
  },
  {
   "cell_type": "code",
   "execution_count": 4,
   "metadata": {
    "tags": []
   },
   "outputs": [],
   "source": [
    "# Переводим матрицу в вектор \n",
    "def ConvertToVector(matrix):\n",
    "    N = np.shape(matrix)[0] * np.shape(matrix)[1]\n",
    "    Vec = np.array([[0 for k in range(N)] for i in range(1)])\n",
    "    k = 0\n",
    "    for i in range(np.shape(matrix)[0]):\n",
    "        for j in range(np.shape(matrix)[1]):\n",
    "            Vec[0,k] = matrix[i,j]\n",
    "            k+=1\n",
    "    return Vec"
   ]
  },
  {
   "cell_type": "code",
   "execution_count": 5,
   "metadata": {
    "tags": []
   },
   "outputs": [],
   "source": [
    "# наоборот \n",
    "def ConvertToMatrix(Vector,col,row):\n",
    "    Matrix = np.array([[0 for k in range(int(np.shape(Vector)[1]/row))] for i in range(int(np.shape(Vector)[1]/col))])\n",
    "    x = col+1\n",
    "    XX=0\n",
    "    YY=0\n",
    "    for i in range(np.shape(Vector)[1]):\n",
    "        if i == x-1:\n",
    "            YY+=1\n",
    "            XX=0\n",
    "            x+=col\n",
    "        Matrix[YY,XX] = Vector[0,i]\n",
    "        XX+=1\n",
    "    return Matrix"
   ]
  },
  {
   "cell_type": "code",
   "execution_count": 6,
   "metadata": {},
   "outputs": [],
   "source": [
    "def Acc(one,two):\n",
    "    N = np.shape(one)[0] * np.shape(one)[1]\n",
    "    x = np.array([[0 for k in range(N)] for i in range(1)])\n",
    "    x = ConvertToVector(two)\n",
    "    h = True\n",
    "    replay = 1\n",
    "    for i in range(np.shape(one)[1]):\n",
    "        if one[0][i]==x[0][i]:\n",
    "            h = True\n",
    "            replay = 1\n",
    "        else:\n",
    "            h = False\n",
    "            replay = 1\n",
    "            return h,replay   \n",
    "    return h,replay"
   ]
  },
  {
   "cell_type": "code",
   "execution_count": 8,
   "metadata": {},
   "outputs": [
    {
     "data": {
      "image/png": "[encoded data removed]",
      "text/plain": [
       "<Figure size 432x288 with 2 Axes>"
      ]
     },
     "metadata": {
      "needs_background": "light"
     },
     "output_type": "display_data"
    },
    {
     "data": {
      "image/png": "[encoded data removed]",
      "text/plain": [
       "<Figure size 432x288 with 2 Axes>"
      ]
     },
     "metadata": {
      "needs_background": "light"
     },
     "output_type": "display_data"
    },
    {
     "data": {
      "image/png": "[encoded data removed]",
      "text/plain": [
       "<Figure size 432x288 with 2 Axes>"
      ]
     },
     "metadata": {
      "needs_background": "light"
     },
     "output_type": "display_data"
    }
   ],
   "source": [
    "# 1 создаем образы\n",
    "NumberNul = np.array([[-1,-1,-1,-1,-1,-1,-1],\n",
    "                     [-1,1,1,1,1,1,-1],\n",
    "                     [-1,1,-1,-1,-1,1,-1],\n",
    "                     [-1,1,-1,-1,-1,1,-1],\n",
    "                      [-1,1,-1,-1,-1,1,-1],\n",
    "                      [-1,1,-1,-1,-1,1,-1],\n",
    "                      [-1,1,-1,-1,-1,1,-1],\n",
    "                      [-1,1,1,1,1,1,-1],\n",
    "                      [-1,-1,-1,-1,-1,-1,-1]])\n",
    "ListNumberNul = ConvertToVector(NumberNul)\n",
    "\n",
    "NumberOne = np.array([[-1,-1,-1,-1,-1,-1,-1],\n",
    "                      [-1,-1,-1,1,-1,-1,-1],\n",
    "                      [-1,-1,1,1,-1,-1,-1],\n",
    "                      [-1,-1,-1,1,-1,-1,-1],\n",
    "                      [-1,-1,-1,1,-1,-1,-1],\n",
    "                      [-1,-1,-1,1,-1,-1,-1],\n",
    "                      [-1,-1,-1,1,-1,-1,-1],\n",
    "                      [-1,1,1,1,1,1,-1],\n",
    "                      [-1,-1,-1,-1,-1,-1,-1]])\n",
    "ListNumberOne = ConvertToVector(NumberOne)\n",
    "\n",
    "NumberTwo = np.array([[-1,-1,-1,-1,-1,-1,-1],\n",
    "                     [-1,1,1,1,1,1,-1],\n",
    "                     [-1,-1,-1,-1,-1,1,-1],\n",
    "                     [-1,-1,-1,-1,-1,1,-1],\n",
    "                     [-1,1,1,1,1,1,-1],\n",
    "                     [-1,1,-1,-1,-1,-1,-1],\n",
    "                     [-1,1,-1,-1,-1,-1,-1],\n",
    "                     [-1,1,1,1,1,1,-1],\n",
    "                     [-1,-1,-1,-1,-1,-1,-1]])\n",
    "ListNumberTwo = ConvertToVector(NumberTwo)\n",
    "DisplayMatrix(NumberNul)\n",
    "DisplayMatrix(NumberOne)\n",
    "DisplayMatrix(NumberTwo)"
   ]
  },
  {
   "cell_type": "markdown",
   "metadata": {},
   "source": [
    "# Шаг 1. Обучение"
   ]
  },
  {
   "cell_type": "code",
   "execution_count": 8,
   "metadata": {},
   "outputs": [],
   "source": [
    "# Обучение\n",
    "a = np.dot(np.transpose(ListNumberNul),ListNumberNul) \n",
    "b = np.dot(np.transpose(ListNumberTwo),ListNumberTwo)\n",
    "Weights = Sum_Matrix(a,b)"
   ]
  },
  {
   "cell_type": "code",
   "execution_count": 11,
   "metadata": {},
   "outputs": [
    {
     "name": "stdout",
     "output_type": "stream",
     "text": [
      "Искажённый образ...\n"
     ]
    },
    {
     "data": {
      "image/png": "[encoded data removed]",
      "text/plain": [
       "<Figure size 432x288 with 2 Axes>"
      ]
     },
     "metadata": {
      "needs_background": "light"
     },
     "output_type": "display_data"
    },
    {
     "name": "stdout",
     "output_type": "stream",
     "text": [
      "Зашумлённые данные\n",
      " [[-1 -1 -1 -1 -1 -1 -1]\n",
      " [-1  1  1 -1  1  1 -1]\n",
      " [-1 -1  1  1 -1 -1 -1]\n",
      " [-1 -1 -1 -1 -1 -1 -1]\n",
      " [-1  1 -1  1  1  1 -1]\n",
      " [-1  1 -1 -1 -1 -1 -1]\n",
      " [-1  1 -1 -1  1 -1 -1]\n",
      " [-1  1  1  1  1  1 -1]\n",
      " [-1 -1 -1 -1 -1 -1 -1]]\n"
     ]
    }
   ],
   "source": [
    "data = pd.read_csv(\"vvodk2.txt\", sep='\\t', header = None)\n",
    "inputs = np.array(data)\n",
    "print(\"Искажённый образ...\")\n",
    "DisplayMatrix(inputs)\n",
    "# print(\"Зашумлённые данные\\n\",inputs)"
   ]
  },
  {
   "cell_type": "markdown",
   "metadata": {},
   "source": [
    "# 2. Восстановление образа"
   ]
  },
  {
   "cell_type": "code",
   "execution_count": 12,
   "metadata": {},
   "outputs": [
    {
     "name": "stdout",
     "output_type": "stream",
     "text": [
      "Восстановление образа...\n",
      "\n",
      "Индексы нейронов до перемешивания :\n",
      " [ 0  1  2  3  4  5  6  7  8  9 10 11 12 13 14 15 16 17 18 19 20 21 22 23\n",
      " 24 25 26 27 28 29 30 31 32 33 34 35 36 37 38 39 40 41 42 43 44 45 46 47\n",
      " 48 49 50 51 52 53 54 55 56 57 58 59 60 61 62] \n",
      "\n",
      "Индексы нейронов после случайного  перемешивания :\n",
      " [36 51  7 45 54 17 27 22 35 42 53 49 24  0 44 55 14 23 29 61 33 12  2  9\n",
      " 11  1 60 38 39 59 62 26 58  8 19 50 30 43 46  6 18 47 15 41 40 56 31 52\n",
      " 16 10 20 32  5 13  3  4 48 28 25 21 37 34 57] \n",
      "\n",
      "\n",
      " Индексы нейронов после случайного  перемешивания :\n",
      " [36 51  7 45 54 17 27 22 35 42 53 49 24  0 44 55 14 23 29 61 33 12  2  9\n",
      " 11  1 60 38 39 59 62 26 58  8 19 50 30 43 46  6 18 47 15 41 40 56 31 52\n",
      " 16 10 20 32  5 13  3  4 48 28 25 21 37 34 57] \n",
      "\n",
      "Проверка на стабильность №-1\n",
      "\n"
     ]
    },
    {
     "data": {
      "image/png": "[encoded data removed]",
      "text/plain": [
       "<Figure size 432x288 with 2 Axes>"
      ]
     },
     "metadata": {
      "needs_background": "light"
     },
     "output_type": "display_data"
    },
    {
     "name": "stdout",
     "output_type": "stream",
     "text": [
      "\n",
      " Индексы нейронов после случайного  перемешивания :\n",
      " [53 50 35 19  0 46 31  3 17 37 45 62 10 26 42 25 57 24 52 49 59 30  1 22\n",
      " 39 33  8 43 28  2 54  6 48  9 18  7 27 15 16 32 13  5 58 60 23 34 40 29\n",
      " 41 14 38  4 21 12 51 11 36 61 44 47 55 56 20] \n",
      "\n",
      "Проверка на стабильность №-2\n",
      "\n"
     ]
    },
    {
     "data": {
      "image/png": "[encoded data removed]",
      "text/plain": [
       "<Figure size 432x288 with 2 Axes>"
      ]
     },
     "metadata": {
      "needs_background": "light"
     },
     "output_type": "display_data"
    },
    {
     "name": "stdout",
     "output_type": "stream",
     "text": [
      "\n",
      " Индексы нейронов после случайного  перемешивания :\n",
      " [17  1 30 48 43 33 28 41  7 55 38 40 11 47 62 39 58 29 61 56 13 21  0 36\n",
      " 34  9 45 20 26 37 18  2 14 24 54 35 10 59 27 16 23  6 53 25 52 44  8 15\n",
      " 42 57 49 31 32 19 22  5 51 46 50 12 60  4  3] \n",
      "\n",
      "Проверка на стабильность №-3\n",
      "\n"
     ]
    },
    {
     "data": {
      "image/png": "[encoded data removed]",
      "text/plain": [
       "<Figure size 432x288 with 2 Axes>"
      ]
     },
     "metadata": {
      "needs_background": "light"
     },
     "output_type": "display_data"
    },
    {
     "name": "stdout",
     "output_type": "stream",
     "text": [
      "\n",
      "После Восстановление \n",
      " [[-1 -1 -1 -1 -1 -1 -1]\n",
      " [-1  1  1  1  1  1 -1]\n",
      " [-1 -1 -1 -1 -1  1 -1]\n",
      " [-1 -1 -1 -1 -1  1 -1]\n",
      " [-1  1  1  1  1  1 -1]\n",
      " [-1  1 -1 -1 -1 -1 -1]\n",
      " [-1  1 -1 -1 -1 -1 -1]\n",
      " [-1  1  1  1  1  1 -1]\n",
      " [-1 -1 -1 -1 -1 -1 -1]]\n"
     ]
    },
    {
     "data": {
      "image/png": "[encoded data removed]",
      "text/plain": [
       "<Figure size 432x288 with 2 Axes>"
      ]
     },
     "metadata": {
      "needs_background": "light"
     },
     "output_type": "display_data"
    }
   ],
   "source": [
    "inputs = ConvertToVector(inputs) # Переводим в вектор полученный шум \n",
    "print(\"Восстановление образа...\\n\")\n",
    "PreviousMatrix = np.array([[0 for k in range(np.shape(inputs)[1])] for i in range(1)]) # пустая матрица шума для хранения пред образа \n",
    "Sum = 0 # сумма вектора шума на столбец матрицы весов \n",
    "Niteration = 0 #\n",
    "IndexWeights = np.array([k for k in range(np.shape(inputs)[1])]) # порядок нейронов матрицы весов \n",
    "print(\"Индексы нейронов до перемешивания :\\n\", IndexWeights,\"\\n\")\n",
    "np.random.shuffle(IndexWeights) # перемешивание порядка индексов матрицы весов \n",
    "print(\"Индексы нейронов после случайного  перемешивания :\\n\",IndexWeights,\"\\n\")\n",
    "\n",
    "while True: \n",
    "    p, replay = Acc(inputs,PreviousMatrix)                                 # проверка на совпадение (устойчивость)\n",
    "    for u in range(replay):                                                # первый прогон восстановления образа \n",
    "        #--- перезапись ---    \n",
    "        for l in range(np.shape(inputs)[0]):                               # сохраняется текущее состояния образа чтобы сверить со след          \n",
    "            for g in range(np.shape(inputs)[1]):\n",
    "                PreviousMatrix[l][g] = inputs[l][g]\n",
    "        #---нахождение произведения \n",
    "        for j in range(np.shape(Weights)[1]):                              # цикл по столбцам матрицы весов \n",
    "            for i in range(np.shape(inputs)[1]):                           # цикл по столбцам матрицы шума\n",
    "                Sum += inputs[0][i] * Weights[i][IndexWeights[j]]          # полэлементо умножаем шум на вес (слайд 9)     \n",
    "        #---ф-ия активации       \n",
    "            Sum = np.where(Sum>0,1,-1)                                      # фун - ция активации   \n",
    "        #---замена знака    \n",
    "            if Sum != inputs[0][IndexWeights[j]]:                           # \n",
    "                inputs[0][IndexWeights[j]] *= -1                            # в случае не совпадения занчения в векторе шума с знач в вектора ркз матриц весов\n",
    "                Sum = 0                                                     # замена на противоположный знак \n",
    "        print(\"\\n\",\"Индексы нейронов после случайного  перемешивания :\\n\", IndexWeights,\"\\n\")        \n",
    "        np.random.shuffle(IndexWeights)                                      # заново перемешиваем порядко нейронов матрицы весов \n",
    "        Niteration+=1\n",
    "\n",
    "        print(f'Проверка на стабильность №-{Niteration}\\n')\n",
    "        DisplayNewInputs = ConvertToMatrix(inputs,7,9)                      # перевод вектора в матрицу\n",
    "        DisplayMatrix(DisplayNewInputs)\n",
    "    #---условие остановы\n",
    "    if p == True:                                                           # когда совпадут и три раза прогонятся \n",
    "        print('\\nПосле Восстановление \\n',DisplayNewInputs)\n",
    "        DisplayNewInputs = ConvertToMatrix(inputs,7,9)\n",
    "        DisplayMatrix(DisplayNewInputs)\n",
    "        break"
   ]
  },
  {
   "cell_type": "code",
   "execution_count": null,
   "metadata": {},
   "outputs": [],
   "source": []
  },
  {
   "cell_type": "code",
   "execution_count": null,
   "metadata": {},
   "outputs": [],
   "source": []
  },
  {
   "cell_type": "code",
   "execution_count": null,
   "metadata": {},
   "outputs": [],
   "source": []
  }
 ],
 "metadata": {
  "kernelspec": {
   "display_name": "Python 3",
   "language": "python",
   "name": "python3"
  },
  "language_info": {
   "codemirror_mode": {
    "name": "ipython",
    "version": 3
   },
   "file_extension": ".py",
   "mimetype": "text/x-python",
   "name": "python",
   "nbconvert_exporter": "python",
   "pygments_lexer": "ipython3",
   "version": "3.8.3"
  }
 },
 "nbformat": 4,
 "nbformat_minor": 4
}
